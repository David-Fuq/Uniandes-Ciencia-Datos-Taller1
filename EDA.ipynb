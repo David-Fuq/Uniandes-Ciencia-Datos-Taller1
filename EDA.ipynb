{
 "cells": [
  {
   "cell_type": "markdown",
   "id": "ba68ee95",
   "metadata": {},
   "source": [
    "# Taller 1"
   ]
  },
  {
   "cell_type": "markdown",
   "id": "585ce2d6",
   "metadata": {},
   "source": [
    "## 0. Preparación inicial"
   ]
  },
  {
   "cell_type": "markdown",
   "id": "7bb89f00",
   "metadata": {},
   "source": [
    "### 0.1. Importación de librerías y configuraciones"
   ]
  },
  {
   "cell_type": "code",
   "execution_count": 2,
   "id": "ac6c8679",
   "metadata": {},
   "outputs": [],
   "source": [
    "import pandas as pd\n",
    "\n",
    "import matplotlib.pyplot as plt\n",
    "import seaborn as sns"
   ]
  },
  {
   "cell_type": "code",
   "execution_count": 3,
   "id": "9f18d704",
   "metadata": {},
   "outputs": [],
   "source": [
    "# Pandas configuration for extending the number of columns and rows to show\n",
    "pd.set_option(\"display.max_columns\", None)\n",
    "pd.set_option(\"display.max_rows\", 100)"
   ]
  },
  {
   "cell_type": "markdown",
   "id": "3a625904",
   "metadata": {},
   "source": [
    "### 0.2. Carga de datos"
   ]
  },
  {
   "cell_type": "code",
   "execution_count": 16,
   "id": "faaeb322",
   "metadata": {},
   "outputs": [
    {
     "name": "stderr",
     "output_type": "stream",
     "text": [
      "C:\\Users\\user\\AppData\\Local\\Temp\\ipykernel_62188\\2951495078.py:2: DtypeWarning: Columns (24) have mixed types. Specify dtype option on import or set low_memory=False.\n",
      "  hotels_df = pd.read_csv(\"./data/hotel_bookings_modified.csv\")\n"
     ]
    }
   ],
   "source": [
    "# Loading the CSV file as dataframe\n",
    "hotels_df = pd.read_csv(\"./data/hotel_bookings_modified.csv\")\n",
    "hotels_df_dict = pd.read_excel(\"./data/Hotel Bookings Demand Data Dictionary.xlsx\")"
   ]
  },
  {
   "cell_type": "markdown",
   "id": "2fcfd86c",
   "metadata": {},
   "source": [
    "## 1. Entendimiento de los datos\n",
    "\n",
    "Como primer paso es necesario revisar el tipo de variable de cada característica, así como el número de reservas con los que se cuenta."
   ]
  },
  {
   "cell_type": "code",
   "execution_count": 5,
   "id": "b42d60a2",
   "metadata": {},
   "outputs": [
    {
     "data": {
      "text/plain": [
       "(58895, 33)"
      ]
     },
     "execution_count": 5,
     "metadata": {},
     "output_type": "execute_result"
    }
   ],
   "source": [
    "# Showing dataframe dimensions\n",
    "hotels_df.shape"
   ]
  },
  {
   "cell_type": "markdown",
   "id": "14d1ab74",
   "metadata": {},
   "source": [
    "| Columna                       | Tipo      | Descripción |\n",
    "|-------------------------------|-----------|-------------|\n",
    "| hotel                         | text      | Hotel (H1 = Resort Hotel o H2 = City Hotel) |\n",
    "| is_canceled                   | boolean   | Indica si la reserva fue cancelada (1) o no (0) |\n",
    "| lead_time                     | integer   | Días entre la fecha en que se realizó la reserva en el PMS y la fecha de llegada |\n",
    "| arrival_date_year             | integer   | Año de la fecha de llegada |\n",
    "| arrival_date_month            | text      | Mes de la fecha de llegada |\n",
    "| arrival_date_week_number      | integer   | Número de semana del año de la fecha de llegada |\n",
    "| arrival_date_day_of_month     | integer   | Día del mes de la fecha de llegada |\n",
    "| stays_in_weekend_nights       | integer   | Noches de fin de semana (sábado o domingo) reservadas o utilizadas |\n",
    "| stays_in_week_nights          | integer   | Noches de semana (lunes a viernes) reservadas o utilizadas |\n",
    "| adults                        | integer   | Número de adultos |\n",
    "| children                      | integer   | Número de niños |\n",
    "| babies                        | integer   | Número de bebés |\n",
    "| meal                          | text      | Tipo de plan de comidas reservado: Undefined/SC (sin comidas), BB (Bed & Breakfast), HB (Half Board), FB (Full Board) |\n",
    "| country                       | text      | País de origen en formato ISO 3155–3:2013 |\n",
    "| market_segment                | text      | Segmento de mercado (TA = Travel Agents, TO = Tour Operators) |\n",
    "| distribution_channel          | text      | Canal de distribución (TA = Travel Agents, TO = Tour Operators) |\n",
    "| is_repeated_guest             | boolean   | Indica si es un cliente repetido (1) o no (0) |\n",
    "| previous_cancellations        | integer   | Número de reservas previas canceladas por el cliente |\n",
    "| previous_bookings_not_canceled| integer   | Número de reservas previas no canceladas por el cliente |\n",
    "| reserved_room_type            | text      | Código del tipo de habitación reservada |\n",
    "| assigned_room_type            | text      | Código del tipo de habitación asignada (puede diferir de la reservada) |\n",
    "| booking_changes               | integer   | Número de cambios realizados a la reserva |\n",
    "| deposit_type                  | text      | Tipo de depósito: No Deposit, Non Refund, Refundable |\n",
    "| agent                         | integer   | ID de la agencia de viajes que hizo la reserva |\n",
    "| company                       | integer   | ID de la compañía/entidad responsable de la reserva |\n",
    "| days_in_waiting_list          | integer   | Días en lista de espera antes de la confirmación |\n",
    "| customer_type                 | text      | Tipo de cliente: Contract, Group, Transient, Transient-party |\n",
    "| adr                           | numeric   | Tarifa diaria promedio (ADR) = total transacciones de alojamiento / número de noches |\n",
    "| required_car_parking_spaces   | integer   | Número de espacios de parqueadero requeridos |\n",
    "| total_of_special_requests     | integer   | Número de solicitudes especiales del cliente |\n",
    "| reservation_status            | text      | Estado final de la reserva: Canceled, Check-Out, No-Show |\n",
    "| reservation_status_date       | date      | Fecha en la que se estableció el último estado de la reserva |\n"
   ]
  },
  {
   "cell_type": "markdown",
   "id": "dede72d9",
   "metadata": {},
   "source": [
    "Gracias al diccionario es posible identificar las vari"
   ]
  },
  {
   "cell_type": "code",
   "execution_count": 6,
   "id": "ed91e630",
   "metadata": {},
   "outputs": [
    {
     "data": {
      "text/plain": [
       "hotel                              object\n",
       "is_canceled                         int64\n",
       "lead_time                           int64\n",
       "arrival_date_year                 float64\n",
       "arrival_date_month                 object\n",
       "arrival_date_week_number            int64\n",
       "arrival_date_day_of_month           int64\n",
       "stays_in_weekend_nights             int64\n",
       "stays_in_week_nights                int64\n",
       "adults                              int64\n",
       "children                          float64\n",
       "babies                              int64\n",
       "meal                               object\n",
       "country                            object\n",
       "market_segment                     object\n",
       "distribution_channel               object\n",
       "is_repeated_guest                   int64\n",
       "previous_cancellations              int64\n",
       "previous_bookings_not_canceled      int64\n",
       "reserved_room_type                 object\n",
       "assigned_room_type                 object\n",
       "booking_changes                     int64\n",
       "deposit_type                       object\n",
       "agent                             float64\n",
       "company                            object\n",
       "days_in_waiting_list              float64\n",
       "customer_type                      object\n",
       "adr                               float64\n",
       "required_car_parking_spaces       float64\n",
       "total_of_special_requests         float64\n",
       "reservation_status                 object\n",
       "reservation_status_date            object\n",
       "kids                              float64\n",
       "dtype: object"
      ]
     },
     "execution_count": 6,
     "metadata": {},
     "output_type": "execute_result"
    }
   ],
   "source": [
    "# Showing column types\n",
    "hotels_df.dtypes"
   ]
  },
  {
   "cell_type": "code",
   "execution_count": 7,
   "id": "bbc237c3",
   "metadata": {},
   "outputs": [
    {
     "data": {
      "text/html": [
       "<div>\n",
       "<style scoped>\n",
       "    .dataframe tbody tr th:only-of-type {\n",
       "        vertical-align: middle;\n",
       "    }\n",
       "\n",
       "    .dataframe tbody tr th {\n",
       "        vertical-align: top;\n",
       "    }\n",
       "\n",
       "    .dataframe thead th {\n",
       "        text-align: right;\n",
       "    }\n",
       "</style>\n",
       "<table border=\"1\" class=\"dataframe\">\n",
       "  <thead>\n",
       "    <tr style=\"text-align: right;\">\n",
       "      <th></th>\n",
       "      <th>hotel</th>\n",
       "      <th>is_canceled</th>\n",
       "      <th>lead_time</th>\n",
       "      <th>arrival_date_year</th>\n",
       "      <th>arrival_date_month</th>\n",
       "      <th>arrival_date_week_number</th>\n",
       "      <th>arrival_date_day_of_month</th>\n",
       "      <th>stays_in_weekend_nights</th>\n",
       "      <th>stays_in_week_nights</th>\n",
       "      <th>adults</th>\n",
       "      <th>children</th>\n",
       "      <th>babies</th>\n",
       "      <th>meal</th>\n",
       "      <th>country</th>\n",
       "      <th>market_segment</th>\n",
       "      <th>distribution_channel</th>\n",
       "      <th>is_repeated_guest</th>\n",
       "      <th>previous_cancellations</th>\n",
       "      <th>previous_bookings_not_canceled</th>\n",
       "      <th>reserved_room_type</th>\n",
       "      <th>assigned_room_type</th>\n",
       "      <th>booking_changes</th>\n",
       "      <th>deposit_type</th>\n",
       "      <th>agent</th>\n",
       "      <th>company</th>\n",
       "      <th>days_in_waiting_list</th>\n",
       "      <th>customer_type</th>\n",
       "      <th>adr</th>\n",
       "      <th>required_car_parking_spaces</th>\n",
       "      <th>total_of_special_requests</th>\n",
       "      <th>reservation_status</th>\n",
       "      <th>reservation_status_date</th>\n",
       "      <th>kids</th>\n",
       "    </tr>\n",
       "  </thead>\n",
       "  <tbody>\n",
       "    <tr>\n",
       "      <th>31018</th>\n",
       "      <td>Resort Hotel</td>\n",
       "      <td>0</td>\n",
       "      <td>2</td>\n",
       "      <td>2017.0</td>\n",
       "      <td>January</td>\n",
       "      <td>4</td>\n",
       "      <td>28</td>\n",
       "      <td>0</td>\n",
       "      <td>1</td>\n",
       "      <td>2</td>\n",
       "      <td>0.0</td>\n",
       "      <td>0</td>\n",
       "      <td>BB</td>\n",
       "      <td>PRT</td>\n",
       "      <td>Online TA</td>\n",
       "      <td>TA/TO</td>\n",
       "      <td>1</td>\n",
       "      <td>0</td>\n",
       "      <td>1</td>\n",
       "      <td>D</td>\n",
       "      <td>D</td>\n",
       "      <td>0</td>\n",
       "      <td>No Deposit</td>\n",
       "      <td>240.0</td>\n",
       "      <td>NaN</td>\n",
       "      <td>0.0</td>\n",
       "      <td>Transient</td>\n",
       "      <td>66.0</td>\n",
       "      <td>0.0</td>\n",
       "      <td>1.0</td>\n",
       "      <td>Check-Out</td>\n",
       "      <td>2017-01-29</td>\n",
       "      <td>NaN</td>\n",
       "    </tr>\n",
       "    <tr>\n",
       "      <th>38228</th>\n",
       "      <td>Resort Hotel</td>\n",
       "      <td>0</td>\n",
       "      <td>3</td>\n",
       "      <td>2017.0</td>\n",
       "      <td>July</td>\n",
       "      <td>28</td>\n",
       "      <td>10</td>\n",
       "      <td>1</td>\n",
       "      <td>1</td>\n",
       "      <td>2</td>\n",
       "      <td>1.0</td>\n",
       "      <td>0</td>\n",
       "      <td>HB</td>\n",
       "      <td>PRT</td>\n",
       "      <td>Online TA</td>\n",
       "      <td>TA/TO</td>\n",
       "      <td>0</td>\n",
       "      <td>0</td>\n",
       "      <td>0</td>\n",
       "      <td>C</td>\n",
       "      <td>C</td>\n",
       "      <td>1</td>\n",
       "      <td>No Deposit</td>\n",
       "      <td>240.0</td>\n",
       "      <td>NaN</td>\n",
       "      <td>0.0</td>\n",
       "      <td>Transient</td>\n",
       "      <td>193.0</td>\n",
       "      <td>0.0</td>\n",
       "      <td>1.0</td>\n",
       "      <td>Check-Out</td>\n",
       "      <td>2017-07-12</td>\n",
       "      <td>NaN</td>\n",
       "    </tr>\n",
       "    <tr>\n",
       "      <th>12772</th>\n",
       "      <td>Resort Hotel</td>\n",
       "      <td>1</td>\n",
       "      <td>333</td>\n",
       "      <td>2017.0</td>\n",
       "      <td>July</td>\n",
       "      <td>29</td>\n",
       "      <td>16</td>\n",
       "      <td>2</td>\n",
       "      <td>4</td>\n",
       "      <td>2</td>\n",
       "      <td>0.0</td>\n",
       "      <td>0</td>\n",
       "      <td>BB</td>\n",
       "      <td>ESP</td>\n",
       "      <td>Online TA</td>\n",
       "      <td>TA/TO</td>\n",
       "      <td>0</td>\n",
       "      <td>0</td>\n",
       "      <td>0</td>\n",
       "      <td>D</td>\n",
       "      <td>D</td>\n",
       "      <td>0</td>\n",
       "      <td>No Deposit</td>\n",
       "      <td>240.0</td>\n",
       "      <td>NaN</td>\n",
       "      <td>0.0</td>\n",
       "      <td>Transient</td>\n",
       "      <td>152.1</td>\n",
       "      <td>0.0</td>\n",
       "      <td>4.0</td>\n",
       "      <td>Canceled</td>\n",
       "      <td>2017-05-16</td>\n",
       "      <td>NaN</td>\n",
       "    </tr>\n",
       "    <tr>\n",
       "      <th>17177</th>\n",
       "      <td>Resort Hotel</td>\n",
       "      <td>0</td>\n",
       "      <td>0</td>\n",
       "      <td>2015.0</td>\n",
       "      <td>September</td>\n",
       "      <td>40</td>\n",
       "      <td>28</td>\n",
       "      <td>1</td>\n",
       "      <td>0</td>\n",
       "      <td>2</td>\n",
       "      <td>1.0</td>\n",
       "      <td>0</td>\n",
       "      <td>BB</td>\n",
       "      <td>AUS</td>\n",
       "      <td>Direct</td>\n",
       "      <td>Direct</td>\n",
       "      <td>0</td>\n",
       "      <td>0</td>\n",
       "      <td>0</td>\n",
       "      <td>A</td>\n",
       "      <td>G</td>\n",
       "      <td>0</td>\n",
       "      <td>No Deposit</td>\n",
       "      <td>NaN</td>\n",
       "      <td>NaN</td>\n",
       "      <td>0.0</td>\n",
       "      <td>Transient</td>\n",
       "      <td>131.0</td>\n",
       "      <td>1.0</td>\n",
       "      <td>1.0</td>\n",
       "      <td>Check-Out</td>\n",
       "      <td>2015-09-29</td>\n",
       "      <td>NaN</td>\n",
       "    </tr>\n",
       "    <tr>\n",
       "      <th>28092</th>\n",
       "      <td>Resort Hotel</td>\n",
       "      <td>0</td>\n",
       "      <td>5</td>\n",
       "      <td>2016.0</td>\n",
       "      <td>September</td>\n",
       "      <td>39</td>\n",
       "      <td>19</td>\n",
       "      <td>1</td>\n",
       "      <td>0</td>\n",
       "      <td>1</td>\n",
       "      <td>0.0</td>\n",
       "      <td>0</td>\n",
       "      <td>BB</td>\n",
       "      <td>ESP</td>\n",
       "      <td>Online TA</td>\n",
       "      <td>TA/TO</td>\n",
       "      <td>0</td>\n",
       "      <td>0</td>\n",
       "      <td>0</td>\n",
       "      <td>A</td>\n",
       "      <td>C</td>\n",
       "      <td>0</td>\n",
       "      <td>No Deposit</td>\n",
       "      <td>240.0</td>\n",
       "      <td>NaN</td>\n",
       "      <td>0.0</td>\n",
       "      <td>Transient-Party</td>\n",
       "      <td>86.0</td>\n",
       "      <td>0.0</td>\n",
       "      <td>2.0</td>\n",
       "      <td>Check-Out</td>\n",
       "      <td>2016-09-20</td>\n",
       "      <td>NaN</td>\n",
       "    </tr>\n",
       "  </tbody>\n",
       "</table>\n",
       "</div>"
      ],
      "text/plain": [
       "              hotel  is_canceled  lead_time  arrival_date_year  \\\n",
       "31018  Resort Hotel            0          2             2017.0   \n",
       "38228  Resort Hotel            0          3             2017.0   \n",
       "12772  Resort Hotel            1        333             2017.0   \n",
       "17177  Resort Hotel            0          0             2015.0   \n",
       "28092  Resort Hotel            0          5             2016.0   \n",
       "\n",
       "      arrival_date_month  arrival_date_week_number  arrival_date_day_of_month  \\\n",
       "31018            January                         4                         28   \n",
       "38228               July                        28                         10   \n",
       "12772               July                        29                         16   \n",
       "17177          September                        40                         28   \n",
       "28092          September                        39                         19   \n",
       "\n",
       "       stays_in_weekend_nights  stays_in_week_nights  adults  children  \\\n",
       "31018                        0                     1       2       0.0   \n",
       "38228                        1                     1       2       1.0   \n",
       "12772                        2                     4       2       0.0   \n",
       "17177                        1                     0       2       1.0   \n",
       "28092                        1                     0       1       0.0   \n",
       "\n",
       "       babies meal country market_segment distribution_channel  \\\n",
       "31018       0   BB     PRT      Online TA                TA/TO   \n",
       "38228       0   HB     PRT      Online TA                TA/TO   \n",
       "12772       0   BB     ESP      Online TA                TA/TO   \n",
       "17177       0   BB     AUS         Direct               Direct   \n",
       "28092       0   BB     ESP      Online TA                TA/TO   \n",
       "\n",
       "       is_repeated_guest  previous_cancellations  \\\n",
       "31018                  1                       0   \n",
       "38228                  0                       0   \n",
       "12772                  0                       0   \n",
       "17177                  0                       0   \n",
       "28092                  0                       0   \n",
       "\n",
       "       previous_bookings_not_canceled reserved_room_type assigned_room_type  \\\n",
       "31018                               1                  D                  D   \n",
       "38228                               0                  C                  C   \n",
       "12772                               0                  D                  D   \n",
       "17177                               0                  A                  G   \n",
       "28092                               0                  A                  C   \n",
       "\n",
       "       booking_changes deposit_type  agent company  days_in_waiting_list  \\\n",
       "31018                0   No Deposit  240.0     NaN                   0.0   \n",
       "38228                1   No Deposit  240.0     NaN                   0.0   \n",
       "12772                0   No Deposit  240.0     NaN                   0.0   \n",
       "17177                0   No Deposit    NaN     NaN                   0.0   \n",
       "28092                0   No Deposit  240.0     NaN                   0.0   \n",
       "\n",
       "         customer_type    adr  required_car_parking_spaces  \\\n",
       "31018        Transient   66.0                          0.0   \n",
       "38228        Transient  193.0                          0.0   \n",
       "12772        Transient  152.1                          0.0   \n",
       "17177        Transient  131.0                          1.0   \n",
       "28092  Transient-Party   86.0                          0.0   \n",
       "\n",
       "       total_of_special_requests reservation_status reservation_status_date  \\\n",
       "31018                        1.0          Check-Out              2017-01-29   \n",
       "38228                        1.0          Check-Out              2017-07-12   \n",
       "12772                        4.0           Canceled              2017-05-16   \n",
       "17177                        1.0          Check-Out              2015-09-29   \n",
       "28092                        2.0          Check-Out              2016-09-20   \n",
       "\n",
       "       kids  \n",
       "31018   NaN  \n",
       "38228   NaN  \n",
       "12772   NaN  \n",
       "17177   NaN  \n",
       "28092   NaN  "
      ]
     },
     "execution_count": 7,
     "metadata": {},
     "output_type": "execute_result"
    }
   ],
   "source": [
    "hotels_df.sample(5) # Showing a sample of n rows"
   ]
  },
  {
   "cell_type": "code",
   "execution_count": 8,
   "id": "aa504c15",
   "metadata": {},
   "outputs": [
    {
     "data": {
      "text/plain": [
       "141"
      ]
     },
     "execution_count": 8,
     "metadata": {},
     "output_type": "execute_result"
    }
   ],
   "source": [
    "# Showing the number of unique values of countries\n",
    "# This can be helpful to diagnose duplicity\n",
    "# No se si vale la pena ponerlo solo me copie xd\n",
    "hotels_df[\"country\"].nunique()"
   ]
  },
  {
   "cell_type": "code",
   "execution_count": 11,
   "id": "846c147e",
   "metadata": {},
   "outputs": [
    {
     "data": {
      "text/plain": [
       "(58895, 33)"
      ]
     },
     "execution_count": 11,
     "metadata": {},
     "output_type": "execute_result"
    }
   ],
   "source": [
    "hotels_df.shape"
   ]
  },
  {
   "cell_type": "code",
   "execution_count": 15,
   "id": "f8afe951",
   "metadata": {},
   "outputs": [
    {
     "data": {
      "text/plain": [
       "hotel                              0.00\n",
       "is_canceled                        0.00\n",
       "lead_time                          0.00\n",
       "arrival_date_year                  1.00\n",
       "arrival_date_month                 0.00\n",
       "arrival_date_week_number           0.00\n",
       "arrival_date_day_of_month          0.00\n",
       "stays_in_weekend_nights            0.00\n",
       "stays_in_week_nights               0.00\n",
       "adults                             0.00\n",
       "children                           0.01\n",
       "babies                             0.00\n",
       "meal                               0.00\n",
       "country                            0.81\n",
       "market_segment                     0.00\n",
       "distribution_channel               0.00\n",
       "is_repeated_guest                  0.00\n",
       "previous_cancellations             0.00\n",
       "previous_bookings_not_canceled     0.00\n",
       "reserved_room_type                 0.00\n",
       "assigned_room_type                 0.00\n",
       "booking_changes                    0.00\n",
       "deposit_type                       0.00\n",
       "agent                             15.51\n",
       "company                           94.09\n",
       "days_in_waiting_list               0.00\n",
       "customer_type                      1.00\n",
       "adr                                0.00\n",
       "required_car_parking_spaces        1.00\n",
       "total_of_special_requests          0.00\n",
       "reservation_status                 1.00\n",
       "reservation_status_date            0.00\n",
       "kids                              99.66\n",
       "dtype: float64"
      ]
     },
     "execution_count": 15,
     "metadata": {},
     "output_type": "execute_result"
    }
   ],
   "source": [
    "\n",
    "hotels_df.isnull().mean().round(4) * 100\n"
   ]
  }
 ],
 "metadata": {
  "kernelspec": {
   "display_name": "base",
   "language": "python",
   "name": "python3"
  },
  "language_info": {
   "codemirror_mode": {
    "name": "ipython",
    "version": 3
   },
   "file_extension": ".py",
   "mimetype": "text/x-python",
   "name": "python",
   "nbconvert_exporter": "python",
   "pygments_lexer": "ipython3",
   "version": "3.11.5"
  }
 },
 "nbformat": 4,
 "nbformat_minor": 5
}
